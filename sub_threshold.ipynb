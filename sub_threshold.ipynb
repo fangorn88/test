{
 "cells": [
  {
   "cell_type": "code",
   "execution_count": 6,
   "metadata": {},
   "outputs": [
    {
     "name": "stdout",
     "output_type": "stream",
     "text": [
      "   blow_down  bare_ground  conventional_mine  blooming  cultivation  \\\n",
      "0   0.000426     0.000817           0.000015  0.006120     0.004615   \n",
      "1   0.001734     0.002210           0.000025  0.015234     0.038193   \n",
      "2   0.000003     0.000239           0.000002  0.000003     0.007698   \n",
      "3   0.001863     0.002524           0.000033  0.009077     0.071449   \n",
      "4   0.000021     0.000500           0.000021  0.000041     0.003382   \n",
      "\n",
      "   artisinal_mine      haze   primary  slash_burn  habitation     clear  \\\n",
      "0        0.000018  0.010376  0.999198    0.000073    0.000810  0.982195   \n",
      "1        0.000085  0.000845  0.999530    0.000343    0.001875  0.994125   \n",
      "2        0.000003  0.000029  0.999210    0.000001    0.001064  0.000083   \n",
      "3        0.000125  0.001640  0.999720    0.000617    0.002634  0.901544   \n",
      "4        0.000036  0.001576  0.552697    0.000028    0.000851  0.000646   \n",
      "\n",
      "       road  selective_logging  partly_cloudy  agriculture     water    cloudy  \n",
      "0  0.004089           0.001318       0.005054     0.010907  0.008273  0.000153  \n",
      "1  0.005929           0.006197       0.004990     0.050986  0.011137  0.000068  \n",
      "2  0.020779           0.000021       0.999472     0.082615  0.069395  0.000180  \n",
      "3  0.006952           0.004068       0.160680     0.106469  0.015316  0.000083  \n",
      "4  0.005511           0.000050       0.717507     0.035212  0.024667  0.400307  \n"
     ]
    },
    {
     "name": "stderr",
     "output_type": "stream",
     "text": [
      "/usr/lib/python2.7/site-packages/ipykernel/__main__.py:34: DeprecationWarning: \n",
      ".ix is deprecated. Please use\n",
      ".loc for label based indexing or\n",
      ".iloc for positional indexing\n",
      "\n",
      "See the documentation here:\n",
      "http://pandas.pydata.org/pandas-docs/stable/indexing.html#deprecate_ix\n"
     ]
    }
   ],
   "source": [
    "import pandas as pd\n",
    "import numpy as np\n",
    "\n",
    "\n",
    "result = pd.read_csv('aug_prob_resnet_1f.csv')\n",
    "result.drop('Unnamed: 0', inplace = True, axis = 1)\n",
    "print result.head()\n",
    "df_test = pd.read_csv('sample_submission_v2.csv')\n",
    "\n",
    "# thres = [0.07, 0.17, 0.2, 0.04, 0.23, 0.33, 0.24, 0.22, 0.1, 0.19, 0.23, 0.24, 0.12, 0.14, 0.25, 0.26, 0.16]\n",
    "\n",
    "thres = [0.0475, 0.2225, 0.0875, 0.19, 0.265, 0.1375, 0.1925, 0.2625, 0.085, 0.2175, 0.2375, \n",
    "         0.21, 0.14, 0.1625, 0.245, 0.205, 0.12]\n",
    "\n",
    "# clear 0.2375\n",
    "# haze 0.1925\n",
    "# partly_cloudy 0.1625\n",
    "# cloudy 0.12\n",
    "# primary 0.2625\n",
    "# agriculture 0.245\n",
    "# water 0.205\n",
    "# cultivation 0.265\n",
    "# habitation 0.2175\n",
    "# road 0.21\n",
    "# slash_burn 0.085\n",
    "# conventional_mine 0.0875\n",
    "# bare_ground 0.2225\n",
    "# artisinal_mine 0.1375\n",
    "# blooming 0.19\n",
    "# selective_logging 0.14\n",
    "# blow_down 0.0475\n",
    "preds = []\n",
    "for i in range(result.shape[0]):\n",
    "    a = result.ix[[i]]\n",
    "    a = a.apply(lambda x: x > thres, axis=1)\n",
    "    a = a.transpose()\n",
    "    a = a.loc[a[i] == True]\n",
    "    ' '.join(list(a.index))\n",
    "    preds.append(' '.join(list(a.index)))\n",
    "    \n",
    "df_test['tags'] = preds\n",
    "df_test.to_csv('submission_keras_1_fold_CV_resnet_aug_thresh2.csv', index=False)"
   ]
  }
 ],
 "metadata": {
  "kernelspec": {
   "display_name": "Python 2",
   "language": "python",
   "name": "python2"
  },
  "language_info": {
   "codemirror_mode": {
    "name": "ipython",
    "version": 2
   },
   "file_extension": ".py",
   "mimetype": "text/x-python",
   "name": "python",
   "nbconvert_exporter": "python",
   "pygments_lexer": "ipython2",
   "version": "2.7.5"
  }
 },
 "nbformat": 4,
 "nbformat_minor": 2
}
