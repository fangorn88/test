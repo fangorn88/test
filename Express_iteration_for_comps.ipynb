{
 "cells": [
  {
   "cell_type": "code",
   "execution_count": null,
   "metadata": {},
   "outputs": [
    {
     "name": "stdout",
     "output_type": "stream",
     "text": [
      " Testing the NMF for various components\n",
      "shape of the data read is \n",
      "(1742404, 3687)\n",
      "/********************************/\n",
      "Fitting the NMF model for 500 components\n",
      "violation: 1.0\n",
      "violation: 0.0858200022346\n",
      "violation: 0.0461450335354\n",
      "violation: 0.0235064411934\n",
      "violation: 0.0136007695944\n",
      "violation: 0.0106219774484\n",
      "violation: 0.00691733813668\n",
      "violation: 0.0056368374512\n",
      "violation: 0.00461415280297\n",
      "violation: 0.00363761803223\n",
      "violation: 0.00311796184152\n",
      "violation: 0.00248243903045\n",
      "violation: 0.00200557032228\n",
      "violation: 0.001689772256\n",
      "violation: 0.00147025148367\n",
      "violation: 0.00132447040754\n",
      "violation: 0.00122773730043\n",
      "violation: 0.00108107873838\n"
     ]
    }
   ],
   "source": [
    "\n",
    "# In[8]:\n",
    "print \" Testing the NMF for various components\"\n",
    "\n",
    "import time\n",
    "from sklearn.decomposition import NMF, LatentDirichletAllocation\n",
    "from scipy import sparse\n",
    "\n",
    "from scipy import sparse, io\n",
    "\n",
    "X_sparse = io.mmread(\"test.mtx\")\n",
    "\n",
    "print \"shape of the data read is \"\n",
    "print X_sparse.shape\n",
    "\n",
    "# X = df1.as_matrix()\n",
    "# X_sparse = sparse.csr_matrix(X)\n",
    "\n",
    "num_comps = [500]\n",
    "# ,10,15,20,25,30,50,100,200\n",
    "#5,10,15,20,25,30,50,100,200\n",
    "for i in num_comps :\n",
    "    \n",
    "    print \"/********************************/\"\n",
    "    print \"Fitting the NMF model for %s components\" % (i)\n",
    "    t0 = time.time()\n",
    "    nmf_1000 = NMF(n_components = i,  random_state=1,max_iter=400,\n",
    "              alpha= 0,verbose = 0.5, l1_ratio= 0,init = 'nndsvd')\n",
    "    nmf_1000.fit(X_sparse)\n",
    "    \n",
    "    print \"Time take to fit %s components\" % (i)\n",
    "    print(\"done in %0.3fs.\" % (time.time() - t0))\n",
    "    \n",
    "    print \"Reconstruction of %s components\" % (i)\n",
    "    print nmf_1000.reconstruction_err_ \n",
    "\n",
    "    print \"Actual iterations taken by %s components\" % (i)\n",
    "    print nmf_1000.n_iter_\n",
    "    \n",
    "    print \"Completed the NMF model for %s components\" % (i)\n",
    "    print \"/********************************/\"\n",
    "    \n",
    "    # In[9]:\n",
    "\n",
    "\n",
    "# import pickle\n",
    "\n",
    "# print \"pickling file in nmf 1000 comps is store in nmf_1000\"\n",
    "# with open('nmf_1000.pickle', 'wb') as f:\n",
    "#     # Pickle the 'data' dictionary using the highest protocol available.\n",
    "#     pickle.dump(nmf_1000, f)\n"
   ]
  },
  {
   "cell_type": "code",
   "execution_count": null,
   "metadata": {
    "collapsed": true
   },
   "outputs": [],
   "source": [
    "num_com = [1000]\n",
    "# ,10,15,20,25,30,50,100,200\n",
    "#5,10,15,20,25,30,50,100,200\n",
    "for i in num_com :\n",
    "    \n",
    "    print \"/********************************/\"\n",
    "    print \"Fitting the NMF model for %s components\" % (i)\n",
    "    t0 = time.time()\n",
    "    nmf_1000 = NMF(n_components = i,  random_state=1,max_iter=200,\n",
    "              alpha= 0,verbose = 0.5, l1_ratio= 0,init = 'nndsvd')\n",
    "    nmf_1000.fit(X_sparse)\n",
    "    \n",
    "    print \"Time take to fit %s components\" % (i)\n",
    "    print(\"done in %0.3fs.\" % (time.time() - t0))\n",
    "    \n",
    "    print \"Reconstruction of %s components\" % (i)\n",
    "    print nmf_1000.reconstruction_err_ \n",
    "\n",
    "    print \"Actual iterations taken by %s components\" % (i)\n",
    "    print nmf_1000.n_iter_\n",
    "    \n",
    "    print \"Completed the NMF model for %s components\" % (i)\n",
    "    print \"/********************************/\""
   ]
  }
 ],
 "metadata": {
  "kernelspec": {
   "display_name": "Python 2",
   "language": "python",
   "name": "python2"
  },
  "language_info": {
   "codemirror_mode": {
    "name": "ipython",
    "version": 2
   },
   "file_extension": ".py",
   "mimetype": "text/x-python",
   "name": "python",
   "nbconvert_exporter": "python",
   "pygments_lexer": "ipython2",
   "version": "2.7.5"
  }
 },
 "nbformat": 4,
 "nbformat_minor": 2
}
