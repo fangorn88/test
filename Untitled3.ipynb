{
 "cells": [
  {
   "cell_type": "code",
   "execution_count": 3,
   "metadata": {
    "collapsed": true,
    "deletable": true,
    "editable": true
   },
   "outputs": [],
   "source": [
    "import pandas as pd\n",
    "import numpy as np"
   ]
  },
  {
   "cell_type": "code",
   "execution_count": 4,
   "metadata": {
    "collapsed": false,
    "deletable": true,
    "editable": true
   },
   "outputs": [
    {
     "name": "stdout",
     "output_type": "stream",
     "text": [
      "(49352, 237)\n",
      "(74659, 237)\n"
     ]
    }
   ],
   "source": [
    "M = np.loadtxt(\"train_stacknet_nf.csv\", delimiter=\",\")\n",
    "M_ts = np.loadtxt(\"test_stacknet_nf.csv\", delimiter=\",\")\n",
    "\n",
    "print M.shape\n",
    "print M_ts.shape"
   ]
  },
  {
   "cell_type": "code",
   "execution_count": 5,
   "metadata": {
    "collapsed": false,
    "deletable": true,
    "editable": true
   },
   "outputs": [
    {
     "name": "stdout",
     "output_type": "stream",
     "text": [
      "(49352, 176)\n",
      "(74659, 176)\n"
     ]
    }
   ],
   "source": [
    "T = np.loadtxt(\"stnet/train_data.csv\", delimiter=\",\")\n",
    "T_ts = np.loadtxt(\"stnet/test_data.csv\", delimiter=\",\")\n",
    "\n",
    "print T.shape\n",
    "print T_ts.shape"
   ]
  },
  {
   "cell_type": "code",
   "execution_count": 6,
   "metadata": {
    "collapsed": false,
    "deletable": true,
    "editable": true
   },
   "outputs": [],
   "source": [
    "# lgbm = np.loadtxt(\"test_stacker_xgb_mm.csv\", delimiter=\",\")\n",
    "# lgbm = np.loadtxt(\"train_stacker_xgb_mm.csv\", delimiter=\",\")\n",
    "\n",
    "lgbm1_ts = np.loadtxt(\"stnet/test_stacker_lgbm_1.csv\", delimiter=\",\")\n",
    "lgbm1 = np.loadtxt(\"stnet/train_stacker_lgbm_1.csv\", delimiter=\",\")\n",
    "\n",
    "xgb3_ts = np.loadtxt(\"stnet/test_stacker_xgb_3.csv\", delimiter=\",\")\n",
    "xgb3 = np.loadtxt(\"stnet/train_stacker_xgb_3.csv\", delimiter=\",\")\n",
    "\n",
    "xgb2_ts = np.loadtxt(\"stnet/test_stacker_xgb_2.csv\", delimiter=\",\")\n",
    "xgb2 = np.loadtxt(\"stnet/train_stacker_xgb_2.csv\", delimiter=\",\")\n",
    "\n",
    "xgb1_ts = np.loadtxt(\"stnet/test_stacker_xgb_1.csv\", delimiter=\",\")\n",
    "xgb1 = np.loadtxt(\"stnet/train_stacker_xgb_1.csv\", delimiter=\",\")\n",
    "\n",
    "gbm_ts = np.loadtxt(\"stnet/test_stacker_gbm_n.csv\", delimiter=\",\")\n",
    "gbm = np.loadtxt(\"stnet/train_stacker_gbm_n.csv\", delimiter=\",\")\n",
    "\n",
    "knn5_ts = np.loadtxt(\"stnet/test_stacker_knn_n0.5.csv\", delimiter=\",\")\n",
    "knn5 = np.loadtxt(\"stnet/train_stacker_knn_n0.5.csv\", delimiter=\",\")\n",
    "\n",
    "knn_ts = np.loadtxt(\"stnet/test_stacker_knn_n.csv\", delimiter=\",\")\n",
    "knn = np.loadtxt(\"stnet/train_stacker_knn_n.csv\", delimiter=\",\")\n",
    "\n",
    "nn4_ts = np.loadtxt(\"stnet/test_stacker_reg_nn_n4.csv\", delimiter=\",\")\n",
    "nn4 = np.loadtxt(\"stnet/train_stacker_reg_nn_n4.csv\", delimiter=\",\")\n",
    "\n",
    "nn3_ts = np.loadtxt(\"stnet/test_stacker_reg_nn_n3.csv\", delimiter=\",\")\n",
    "nn3 = np.loadtxt(\"stnet/train_stacker_reg_nn_n3.csv\", delimiter=\",\")\n",
    "\n",
    "nn2_ts = np.loadtxt(\"stnet/test_stacker_reg_nn_n2.csv\", delimiter=\",\")\n",
    "nn2 = np.loadtxt(\"stnet/train_stacker_reg_nn_n2.csv\", delimiter=\",\")\n",
    "\n",
    "nn1_ts = np.loadtxt(\"stnet/test_stacker_reg_nn_n.csv\", delimiter=\",\")\n",
    "nn1 = np.loadtxt(\"stnet/train_stacker_reg_nn_n.csv\", delimiter=\",\")\n",
    "\n",
    "lr_ts = np.loadtxt(\"stnet/test_stacker_lgr_n.csv\", delimiter=\",\")\n",
    "lr = np.loadtxt(\"stnet/train_stacker_lgr_n.csv\", delimiter=\",\")\n",
    "\n",
    "lrtf_ts = np.loadtxt(\"stnet/test_stacker_lgr_tf_n.csv\", delimiter=\",\")\n",
    "lrtf = np.loadtxt(\"stnet/train_stacker_lgr_tf_n.csv\", delimiter=\",\")\n",
    "\n",
    "rf_ts = np.loadtxt(\"stnet/test_stacker_rf_n.csv\", delimiter=\",\")\n",
    "rf = np.loadtxt(\"stnet/train_stacker_rf_n.csv\", delimiter=\",\")\n"
   ]
  },
  {
   "cell_type": "code",
   "execution_count": 15,
   "metadata": {
    "collapsed": false,
    "deletable": true,
    "editable": true
   },
   "outputs": [],
   "source": [
    "# X = np.column_stack((M,T, rf, lrtf, lr, nn1, nn2, nn3, nn4, knn, knn5, gbm, xgb1, xgb2, xgb3, lgbm1))\n",
    "# X_ts = np.column_stack((M_ts,T_ts, rf_ts, lrtf_ts, lr_ts, nn1_ts, nn2_ts, nn3_ts, nn4_ts, knn_ts, knn5_ts, gbm_ts, \n",
    "#                         xgb1_ts, xgb2_ts, xgb3_ts, lgbm1_ts))\n",
    "\n",
    "# print X.shape\n",
    "# print X_ts.shape\n",
    "\n",
    "np.savetxt(\"stnet/train_nf1.csv\", X, delimiter=\",\", fmt='%.6f')\n",
    "np.savetxt(\"stnet/test_nf1.csv\", X_ts, delimiter=\",\", fmt='%.6f')\n",
    "\n",
    "\n",
    "# X[:,0:1]"
   ]
  },
  {
   "cell_type": "code",
   "execution_count": 20,
   "metadata": {
    "collapsed": false
   },
   "outputs": [],
   "source": [
    "# sgd_ts = np.loadtxt(\"stnet/test_stacker_sgd4_meta.csv\", delimiter=\",\")\n",
    "# sgd = np.loadtxt(\"stnet/train_stacker_sgd4_meta.csv\", delimiter=\",\")\n",
    "\n",
    "# nb_ts = np.loadtxt(\"stnet/test_stacker_nb_meta.csv\", delimiter=\",\")\n",
    "# nb = np.loadtxt(\"stnet/train_stacker_nb_meta.csv\", delimiter=\",\")\n",
    "\n",
    "# meta_knn_ts = np.loadtxt(\"stnet/test_stacker_knn_meta_1k_n.csv\", delimiter=\",\")\n",
    "# meta_knn = np.loadtxt(\"stnet/train_stacker_knn_meta_1k_n.csv\", delimiter=\",\")\n",
    "\n",
    "# et_ts = np.loadtxt(\"stnet/test_stacker_et_meta_md10n.csv\", delimiter=\",\")\n",
    "# et = np.loadtxt(\"stnet/train_stacker_et_meta_md10n.csv\", delimiter=\",\")\n",
    "\n",
    "# X = np.column_stack((X, nb, sgd, meta_knn, et))\n",
    "# X_ts = np.column_stack((X_ts , nb_ts, sgd_ts, meta_knn_ts, et_ts))\n",
    "\n",
    "# print X.shape\n",
    "# print X_ts.shape\n",
    "\n",
    "\n",
    "np.savetxt(\"stacknet/train_nf2.csv\", X, delimiter=\",\", fmt='%.6f')\n",
    "np.savetxt(\"stacknet/test_nf2.csv\", X_ts, delimiter=\",\", fmt='%.6f')\n"
   ]
  },
  {
   "cell_type": "code",
   "execution_count": 7,
   "metadata": {
    "collapsed": false,
    "deletable": true,
    "editable": true
   },
   "outputs": [],
   "source": [
    "F = np.column_stack((T,M, rf, lrtf, lr, nn1, nn2, nn3, nn4, knn, knn5, gbm, xgb1, xgb2, xgb3, lgbm1))\n",
    "F_ts = np.column_stack((T_ts, M_ts,rf_ts, lrtf_ts, lr_ts, nn1_ts, nn2_ts, nn3_ts, nn4_ts, knn_ts, knn5_ts, gbm_ts, \n",
    "                        xgb1_ts, xgb2_ts, xgb3_ts, lgbm1_ts))\n",
    "\n",
    "\n"
   ]
  },
  {
   "cell_type": "code",
   "execution_count": 12,
   "metadata": {
    "collapsed": false,
    "deletable": true,
    "editable": true
   },
   "outputs": [
    {
     "data": {
      "text/html": [
       "<div>\n",
       "<table border=\"1\" class=\"dataframe\">\n",
       "  <thead>\n",
       "    <tr style=\"text-align: right;\">\n",
       "      <th></th>\n",
       "      <th>0</th>\n",
       "      <th>1</th>\n",
       "      <th>2</th>\n",
       "      <th>3</th>\n",
       "      <th>4</th>\n",
       "      <th>5</th>\n",
       "      <th>6</th>\n",
       "      <th>7</th>\n",
       "      <th>8</th>\n",
       "      <th>9</th>\n",
       "      <th>...</th>\n",
       "      <th>38</th>\n",
       "      <th>39</th>\n",
       "      <th>40</th>\n",
       "      <th>41</th>\n",
       "      <th>42</th>\n",
       "      <th>43</th>\n",
       "      <th>44</th>\n",
       "      <th>45</th>\n",
       "      <th>46</th>\n",
       "      <th>47</th>\n",
       "    </tr>\n",
       "  </thead>\n",
       "  <tbody>\n",
       "    <tr>\n",
       "      <th>0</th>\n",
       "      <td>-0.22206</td>\n",
       "      <td>-0.20612</td>\n",
       "      <td>-0.85004</td>\n",
       "      <td>0.00068</td>\n",
       "      <td>0.04644</td>\n",
       "      <td>0.95288</td>\n",
       "      <td>0.055075</td>\n",
       "      <td>0.416066</td>\n",
       "      <td>0.528859</td>\n",
       "      <td>0.017581</td>\n",
       "      <td>...</td>\n",
       "      <td>0.703580</td>\n",
       "      <td>0.009053</td>\n",
       "      <td>0.228349</td>\n",
       "      <td>0.762598</td>\n",
       "      <td>0.010651</td>\n",
       "      <td>0.172626</td>\n",
       "      <td>0.816723</td>\n",
       "      <td>0.011663</td>\n",
       "      <td>0.232532</td>\n",
       "      <td>0.755805</td>\n",
       "    </tr>\n",
       "    <tr>\n",
       "      <th>1</th>\n",
       "      <td>-0.22206</td>\n",
       "      <td>-0.20612</td>\n",
       "      <td>-0.77552</td>\n",
       "      <td>0.00003</td>\n",
       "      <td>0.00401</td>\n",
       "      <td>0.99596</td>\n",
       "      <td>0.000000</td>\n",
       "      <td>0.011819</td>\n",
       "      <td>0.988181</td>\n",
       "      <td>0.000124</td>\n",
       "      <td>...</td>\n",
       "      <td>0.994738</td>\n",
       "      <td>0.000172</td>\n",
       "      <td>0.003763</td>\n",
       "      <td>0.996065</td>\n",
       "      <td>0.000085</td>\n",
       "      <td>0.005181</td>\n",
       "      <td>0.994734</td>\n",
       "      <td>0.000205</td>\n",
       "      <td>0.005504</td>\n",
       "      <td>0.994290</td>\n",
       "    </tr>\n",
       "    <tr>\n",
       "      <th>2</th>\n",
       "      <td>-0.22206</td>\n",
       "      <td>-0.20612</td>\n",
       "      <td>0.36570</td>\n",
       "      <td>0.13022</td>\n",
       "      <td>0.57752</td>\n",
       "      <td>0.29226</td>\n",
       "      <td>0.131040</td>\n",
       "      <td>0.414844</td>\n",
       "      <td>0.454116</td>\n",
       "      <td>0.048908</td>\n",
       "      <td>...</td>\n",
       "      <td>0.388263</td>\n",
       "      <td>0.177469</td>\n",
       "      <td>0.475131</td>\n",
       "      <td>0.347401</td>\n",
       "      <td>0.141803</td>\n",
       "      <td>0.453156</td>\n",
       "      <td>0.405041</td>\n",
       "      <td>0.115618</td>\n",
       "      <td>0.451976</td>\n",
       "      <td>0.432406</td>\n",
       "    </tr>\n",
       "    <tr>\n",
       "      <th>3</th>\n",
       "      <td>-0.22206</td>\n",
       "      <td>-0.20612</td>\n",
       "      <td>0.36571</td>\n",
       "      <td>0.00004</td>\n",
       "      <td>0.03305</td>\n",
       "      <td>0.96691</td>\n",
       "      <td>0.000000</td>\n",
       "      <td>0.057211</td>\n",
       "      <td>0.942789</td>\n",
       "      <td>0.001034</td>\n",
       "      <td>...</td>\n",
       "      <td>0.946402</td>\n",
       "      <td>0.001624</td>\n",
       "      <td>0.055777</td>\n",
       "      <td>0.942599</td>\n",
       "      <td>0.001074</td>\n",
       "      <td>0.049243</td>\n",
       "      <td>0.949682</td>\n",
       "      <td>0.001603</td>\n",
       "      <td>0.048089</td>\n",
       "      <td>0.950307</td>\n",
       "    </tr>\n",
       "    <tr>\n",
       "      <th>4</th>\n",
       "      <td>-0.22206</td>\n",
       "      <td>-0.20612</td>\n",
       "      <td>0.36575</td>\n",
       "      <td>0.00101</td>\n",
       "      <td>0.00691</td>\n",
       "      <td>0.99208</td>\n",
       "      <td>0.000000</td>\n",
       "      <td>0.000000</td>\n",
       "      <td>1.000000</td>\n",
       "      <td>0.001980</td>\n",
       "      <td>...</td>\n",
       "      <td>0.995212</td>\n",
       "      <td>0.001000</td>\n",
       "      <td>0.003701</td>\n",
       "      <td>0.995299</td>\n",
       "      <td>0.001176</td>\n",
       "      <td>0.004211</td>\n",
       "      <td>0.994612</td>\n",
       "      <td>0.002147</td>\n",
       "      <td>0.004870</td>\n",
       "      <td>0.992984</td>\n",
       "    </tr>\n",
       "  </tbody>\n",
       "</table>\n",
       "<p>5 rows × 48 columns</p>\n",
       "</div>"
      ],
      "text/plain": [
       "        0        1        2        3        4        5         6         7   \\\n",
       "0 -0.22206 -0.20612 -0.85004  0.00068  0.04644  0.95288  0.055075  0.416066   \n",
       "1 -0.22206 -0.20612 -0.77552  0.00003  0.00401  0.99596  0.000000  0.011819   \n",
       "2 -0.22206 -0.20612  0.36570  0.13022  0.57752  0.29226  0.131040  0.414844   \n",
       "3 -0.22206 -0.20612  0.36571  0.00004  0.03305  0.96691  0.000000  0.057211   \n",
       "4 -0.22206 -0.20612  0.36575  0.00101  0.00691  0.99208  0.000000  0.000000   \n",
       "\n",
       "         8         9     ...           38        39        40        41  \\\n",
       "0  0.528859  0.017581    ...     0.703580  0.009053  0.228349  0.762598   \n",
       "1  0.988181  0.000124    ...     0.994738  0.000172  0.003763  0.996065   \n",
       "2  0.454116  0.048908    ...     0.388263  0.177469  0.475131  0.347401   \n",
       "3  0.942789  0.001034    ...     0.946402  0.001624  0.055777  0.942599   \n",
       "4  1.000000  0.001980    ...     0.995212  0.001000  0.003701  0.995299   \n",
       "\n",
       "         42        43        44        45        46        47  \n",
       "0  0.010651  0.172626  0.816723  0.011663  0.232532  0.755805  \n",
       "1  0.000085  0.005181  0.994734  0.000205  0.005504  0.994290  \n",
       "2  0.141803  0.453156  0.405041  0.115618  0.451976  0.432406  \n",
       "3  0.001074  0.049243  0.949682  0.001603  0.048089  0.950307  \n",
       "4  0.001176  0.004211  0.994612  0.002147  0.004870  0.992984  \n",
       "\n",
       "[5 rows x 48 columns]"
      ]
     },
     "execution_count": 12,
     "metadata": {},
     "output_type": "execute_result"
    }
   ],
   "source": [
    "pd.DataFrame(F[:,407:455]).head()\n",
    " \n",
    "# np.savetxt(\"stnet/train_15.csv\", F[:,410:455], delimiter=\",\", fmt='%.6f')\n",
    "# np.savetxt(\"stnet/test_15.csv\", F_ts[:,410:455], delimiter=\",\", fmt='%.6f')\n",
    "\n",
    "# print F[:,410:455].shape\n",
    "# print F_ts[:,410:455].shape"
   ]
  },
  {
   "cell_type": "code",
   "execution_count": 22,
   "metadata": {
    "collapsed": false
   },
   "outputs": [
    {
     "name": "stdout",
     "output_type": "stream",
     "text": [
      "(49352, 15)\n",
      "(74659, 15)\n"
     ]
    }
   ],
   "source": [
    "mnn = np.loadtxt(\"stnet/train_stacker_meta_nn5.csv\", delimiter=\",\")\n",
    "mnn_ts = np.loadtxt(\"stnet/test_stacker_meta_nn5.csv\", delimiter=\",\")\n",
    "\n",
    "knn = np.loadtxt(\"stnet/train_stacker_knn_meta_1k_n.csv\", delimiter=\",\")\n",
    "knn_ts = np.loadtxt(\"stnet/test_stacker_knn_meta_1k_n.csv\", delimiter=\",\")\n",
    "\n",
    "et = np.loadtxt(\"stnet/train_stacker_et_meta_md10n.csv\", delimiter=\",\")\n",
    "et_ts = np.loadtxt(\"stnet/test_stacker_et_meta_md10n.csv\", delimiter=\",\")\n",
    "\n",
    "sgd = np.loadtxt(\"stnet/train_stacker_sgd4_meta.csv\", delimiter=\",\")\n",
    "sgd_ts = np.loadtxt(\"stnet/test_stacker_sgd4_meta.csv\", delimiter=\",\")\n",
    "\n",
    "nb = np.loadtxt(\"stnet/train_stacker_nb_meta.csv\", delimiter=\",\")\n",
    "nb_ts = np.loadtxt(\"stnet/test_stacker_nb_meta.csv\", delimiter=\",\")\n",
    "\n",
    "\n",
    "mx = np.column_stack((mnn, knn, et, sgd, nb))\n",
    "mx_ts = np.column_stack((mnn_ts, knn_ts, et_ts, sgd_ts, nb_ts))\n",
    "\n",
    "\n",
    "print mx.shape\n",
    "print mx_ts.shape\n",
    "\n",
    "np.savetxt(\"stacknet/train_mx.csv\", mx, delimiter=\",\", fmt='%.6f')\n",
    "np.savetxt(\"stacknet/test_mx.csv\", mx_ts, delimiter=\",\", fmt='%.6f')\n"
   ]
  }
 ],
 "metadata": {
  "kernelspec": {
   "display_name": "Python 2",
   "language": "python",
   "name": "python2"
  },
  "language_info": {
   "codemirror_mode": {
    "name": "ipython",
    "version": 2
   },
   "file_extension": ".py",
   "mimetype": "text/x-python",
   "name": "python",
   "nbconvert_exporter": "python",
   "pygments_lexer": "ipython2",
   "version": "2.7.5"
  }
 },
 "nbformat": 4,
 "nbformat_minor": 2
}
