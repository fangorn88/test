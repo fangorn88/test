{
 "cells": [
  {
   "cell_type": "code",
   "execution_count": 1,
   "metadata": {},
   "outputs": [
    {
     "name": "stdout",
     "output_type": "stream",
     "text": [
      "Enter your password:········\n"
     ]
    }
   ],
   "source": [
    "# Importing relevant packages and establishing the Exadata connection\n",
    "\n",
    "import sqlalchemy\n",
    "import pandas as pd\n",
    "import numpy as np\n",
    "import getpass\n",
    "\n",
    "password=getpass.getpass(\"Enter your password:\")\n",
    "engine = sqlalchemy.create_engine(\"oracle+cx_oracle://anantk[an_ct_ws04]:%s@exa_gbtukprdd_an\" %(password))"
   ]
  },
  {
   "cell_type": "code",
   "execution_count": 8,
   "metadata": {},
   "outputs": [
    {
     "ename": "SyntaxError",
     "evalue": "EOL while scanning string literal (<ipython-input-8-440e78d3bfbc>, line 8)",
     "output_type": "error",
     "traceback": [
      "\u001b[1;36m  File \u001b[1;32m\"<ipython-input-8-440e78d3bfbc>\"\u001b[1;36m, line \u001b[1;32m8\u001b[0m\n\u001b[1;33m    prod_trans = pd.read_sql(\"SELECT  distinct converted_prod_group_id as tpn,                              prod_group_desc , \\\u001b[0m\n\u001b[1;37m                                                                                                                                ^\u001b[0m\n\u001b[1;31mSyntaxError\u001b[0m\u001b[1;31m:\u001b[0m EOL while scanning string literal\n"
     ]
    }
   ],
   "source": [
    "import datetime as dt\n",
    "\n",
    "# Getting the model data set from Exadata \n",
    "\n",
    "# prods = pd.read_sql(\"SELECT  distinct prod_buyer_l24_desc \\\n",
    "#                      from prod_dim_c \" , engine )\n",
    "\n",
    "prod_trans = pd.read_sql(\"SELECT  distinct converted_prod_group_id as tpn, \\\n",
    "                             prod_group_desc , \\ \n",
    "                             prod_buyer_l23_desc as category,\\\n",
    "                             prod_buyer_l22_desc as bcont,\\\n",
    "                             sum(net_spend_amt)*10 as spend,\\\n",
    "                             sum(item_qty)*10 as units,\\\n",
    "                             count(distinct transaction_fid)*10 as visits,\\\n",
    "                             count(distinct hshd_id)*10 as customers \\                   \n",
    "                         from transaction_item_fct t \\\n",
    "                         inner join prod_dim_c p on t.prod_id = p.prod_id \\\n",
    "                         inner join card_dim_c c on t.card_id = c.card_id \\\n",
    "                         where (date_id between '29-FEB-2016' and '31-JUL-16') and \\ \n",
    "                         prod_buyer_l24_desc in ('PACKAGE D.','FRES H.','HARDLINE S.') \\\n",
    "                         GROUP BY GROUPING SETS ((CONVERTED_PROD_GROUP_ID,PROD_GROUP_DESC,PROD_BUYER_L23_DESC,PROD_BUYER_L22_DESC),\\\n",
    "                                             ())\", engine )\n",
    "\n",
    "# prods = pd.read_sql(\"SELECT  a.*,dense_rank()over(order by category) as cat_code FROM AK_PROD_TM_N2 a\\\n",
    "#                      order by match_flag desc\" , engine )\n",
    "# prods\n",
    "# print(prods.shape())\n",
    "# print(prods.describe())"
   ]
  }
 ],
 "metadata": {
  "kernelspec": {
   "display_name": "Python 3",
   "language": "python",
   "name": "python3"
  },
  "language_info": {
   "codemirror_mode": {
    "name": "ipython",
    "version": 3
   },
   "file_extension": ".py",
   "mimetype": "text/x-python",
   "name": "python",
   "nbconvert_exporter": "python",
   "pygments_lexer": "ipython3",
   "version": "3.4.5"
  }
 },
 "nbformat": 4,
 "nbformat_minor": 1
}
