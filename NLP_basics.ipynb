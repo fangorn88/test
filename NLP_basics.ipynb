{
 "cells": [
  {
   "cell_type": "code",
   "execution_count": 2,
   "metadata": {
    "collapsed": false,
    "scrolled": true
   },
   "outputs": [
    {
     "name": "stdout",
     "output_type": "stream",
     "text": [
      "NLTK Downloader\n",
      "---------------------------------------------------------------------------\n",
      "    d) Download   l) List    u) Update   c) Config   h) Help   q) Quit\n",
      "---------------------------------------------------------------------------\n",
      "Downloader> d)\n",
      "Command 'd)' unrecognized\n",
      "\n",
      "---------------------------------------------------------------------------\n",
      "    d) Download   l) List    u) Update   c) Config   h) Help   q) Quit\n",
      "---------------------------------------------------------------------------\n",
      "Downloader> Download\n",
      "Command 'Download' unrecognized\n",
      "\n",
      "---------------------------------------------------------------------------\n",
      "    d) Download   l) List    u) Update   c) Config   h) Help   q) Quit\n",
      "---------------------------------------------------------------------------\n",
      "Downloader> d\n",
      "\n",
      "Download which package (l=list; x=cancel)?\n",
      "  Identifier> l\n",
      "Packages:\n",
      "Error connecting to server: [Errno 111] Connection refused\n",
      "\n",
      "---------------------------------------------------------------------------\n",
      "    d) Download   l) List    u) Update   c) Config   h) Help   q) Quit\n",
      "---------------------------------------------------------------------------\n",
      "Downloader> q\n"
     ]
    },
    {
     "data": {
      "text/plain": [
       "True"
      ]
     },
     "execution_count": 2,
     "metadata": {},
     "output_type": "execute_result"
    }
   ],
   "source": [
    "import nltk\n",
    "\n",
    "nltk.download()"
   ]
  },
  {
   "cell_type": "code",
   "execution_count": 3,
   "metadata": {
    "collapsed": false
   },
   "outputs": [
    {
     "name": "stdout",
     "output_type": "stream",
     "text": [
      "*** Introductory Examples for the NLTK Book ***\n",
      "Loading text1, ..., text9 and sent1, ..., sent9\n",
      "Type the name of the text or sentence to view it.\n",
      "Type: 'texts()' or 'sents()' to list the materials.\n",
      "text1: Moby Dick by Herman Melville 1851\n",
      "text2: Sense and Sensibility by Jane Austen 1811\n",
      "text3: The Book of Genesis\n",
      "text4: Inaugural Address Corpus\n",
      "text5: Chat Corpus\n",
      "text6: Monty Python and the Holy Grail\n",
      "text7: Wall Street Journal\n",
      "text8: Personals Corpus\n",
      "text9: The Man Who Was Thursday by G . K . Chesterton 1908\n"
     ]
    }
   ],
   "source": [
    "from nltk.book import *"
   ]
  },
  {
   "cell_type": "code",
   "execution_count": 86,
   "metadata": {
    "collapsed": false
   },
   "outputs": [
    {
     "data": {
      "image/png": "[encoded data removed]",
      "text/plain": [
       "<matplotlib.figure.Figure at 0x146fb390>"
      ]
     },
     "metadata": {},
     "output_type": "display_data"
    }
   ],
   "source": [
    "from nltk.draw.dispersion import dispersion_plot\n",
    "\n",
    "# text3.concordance(\"noah\")\n",
    "\n",
    "# text1.similar(\"monstrous\")\n",
    "\n",
    "# text2.common_contexts([\"monstrous\", \"very\"])\n",
    "\n",
    "# dispersion_plot(text4, [\"citizens\", \"democracy\", \"freedom\", \"duties\", \"America\", \"Liberty\",\"Constitution\"])\n",
    "\n",
    "dispersion_plot(text1, [\"Whale\", \"Dick\", \"Ahab\", \"Captain\",\"\"])\n",
    "\n"
   ]
  },
  {
   "cell_type": "code",
   "execution_count": 40,
   "metadata": {
    "collapsed": false
   },
   "outputs": [
    {
     "data": {
      "text/plain": [
       "10.167915381225209"
      ]
     },
     "execution_count": 40,
     "metadata": {},
     "output_type": "execute_result"
    }
   ],
   "source": [
    "# len(text4)\n",
    "# sorted(set(text4))\n",
    "\n",
    "# len(text4)/len(set(text4))\n",
    "\n",
    "from __future__ import division\n",
    "100*text5.count(\"lol\")/len(text5)\n",
    "\n",
    "def lexical_diversity(text):\n",
    "    return len(text) / len(set(text))\n",
    "\n",
    "def percentage(count, total):\n",
    "    return 100 * count / total\n",
    "\n",
    "lexical_diversity(text9)\n",
    "\n",
    "percentage()\n",
    "\n",
    "fdist = FreqDist(samples) Create a frequency distribution containing the given samples\n",
    "\n",
    "fdist.inc(sample) Increment the count for this sample\n",
    "\n",
    "fdist['monstrous'] Count of the number of times a given sample occurred\n",
    "\n",
    "fdist.freq('monstrous') Frequency of a given sample\n",
    "\n",
    "fdist.N() Total number of samples\n",
    "\n",
    "fdist.keys() The samples sorted in order of decreasing frequency\n",
    "\n",
    "for sample in fdist: Iterate over the samples, in order of decreasing frequency\n",
    "\n",
    "fdist.max() Sample with the greatest count\n",
    "\n",
    "fdist.tabulate() Tabulate the frequency distribution\n",
    "\n",
    "fdist.plot() Graphical plot of the frequency distribution\n",
    "\n",
    "fdist.plot(cumulative=True) Cumulative plot of the frequency distribution\n",
    "\n",
    "fdist1 < fdist2 Test if samples in fdist1 occur less frequently than in fdist2"
   ]
  },
  {
   "cell_type": "code",
   "execution_count": 46,
   "metadata": {
    "collapsed": false
   },
   "outputs": [
    {
     "data": {
      "text/plain": [
       "['My', 'name', 'is', 'Garima', 'Jain']"
      ]
     },
     "execution_count": 46,
     "metadata": {},
     "output_type": "execute_result"
    }
   ],
   "source": [
    "sent1 = ['Call', 'me', 'Ishmael', '.']\n",
    "len(sent1)\n",
    "lexical_diversity(sent1)\n",
    "\n",
    "sent2 = [\"My\", \"name\", \"is\", \"Anant\"]\n",
    "\n",
    "sent1 + sent2\n",
    "\n",
    "sent2.append(\"Khandelwal\")\n",
    "sent2.index(\"Anant\")\n",
    "\n",
    "text5[100:125]\n",
    "\n",
    "sent2[3:] = [\"Garima\", \"Jain\"]\n",
    "sent2"
   ]
  },
  {
   "cell_type": "code",
   "execution_count": 80,
   "metadata": {
    "collapsed": false,
    "scrolled": true
   },
   "outputs": [
    {
     "name": "stdout",
     "output_type": "stream",
     "text": [
      "said Syme; asked Syme; Saffron Park; Comrade Gregory; Leicester\n",
      "Square; Colonel Ducroix; red hair; old gentleman; could see; Inspector\n",
      "Ratcliffe; Anarchist Council; blue card; Scotland Yard; dark room;\n",
      "blue eyes; common sense; straw hat; hundred yards; said Gregory; run\n",
      "away\n"
     ]
    }
   ],
   "source": [
    "# V = set(text1)\n",
    "# long_words = [w for w in V if len(w) > 15]\n",
    "# sorted(long_words)\n",
    "\n",
    "# fdist5 = FreqDist(text1)\n",
    "# sorted([w for w in set(text1) if len(w) > 4 and fdist5[w] > 50])\n",
    "\n",
    "text9.collocations()"
   ]
  },
  {
   "cell_type": "code",
   "execution_count": 81,
   "metadata": {
    "collapsed": false
   },
   "outputs": [
    {
     "ename": "NameError",
     "evalue": "name 'babelize_shell' is not defined",
     "output_type": "error",
     "traceback": [
      "\u001b[0;31m\u001b[0m",
      "\u001b[0;31mNameError\u001b[0mTraceback (most recent call last)",
      "\u001b[0;32m<ipython-input-81-5e984664ba12>\u001b[0m in \u001b[0;36m<module>\u001b[0;34m()\u001b[0m\n\u001b[0;32m----> 1\u001b[0;31m \u001b[0mbabelize_shell\u001b[0m\u001b[0;34m(\u001b[0m\u001b[0;34m)\u001b[0m\u001b[0;34m\u001b[0m\u001b[0m\n\u001b[0m",
      "\u001b[0;31mNameError\u001b[0m: name 'babelize_shell' is not defined"
     ]
    }
   ],
   "source": [
    "babelize_shell()"
   ]
  }
 ],
 "metadata": {
  "kernelspec": {
   "display_name": "Python 2",
   "language": "python",
   "name": "python2"
  },
  "language_info": {
   "codemirror_mode": {
    "name": "ipython",
    "version": 2
   },
   "file_extension": ".py",
   "mimetype": "text/x-python",
   "name": "python",
   "nbconvert_exporter": "python",
   "pygments_lexer": "ipython2",
   "version": "2.7.5"
  }
 },
 "nbformat": 4,
 "nbformat_minor": 1
}
